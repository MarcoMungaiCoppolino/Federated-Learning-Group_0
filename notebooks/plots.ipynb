{
  "cells": [
    {
      "cell_type": "code",
      "execution_count": null,
      "metadata": {
        "colab": {
          "base_uri": "https://localhost:8080/"
        },
        "id": "55PDmMTC-YAb",
        "outputId": "38324971-bca6-4065-85ae-c1e03097c262"
      },
      "outputs": [],
      "source": [
        "import pandas as pd\n",
        "\n",
        "from google.colab import drive\n",
        "\n",
        "drive.mount('/content/drive/')"
      ]
    },
    {
      "cell_type": "code",
      "execution_count": null,
      "metadata": {
        "id": "uqdlclq3gWz5"
      },
      "outputs": [],
      "source": [
        "import pandas as pd\n",
        "\n",
        "\n",
        "df = pd.read_csv('/content/new_uniform_vs_skewed.csv')\n",
        "df = df.iloc[::10]  # Selects every 10th row, starting from the first row\n",
        "\n",
        "# Resetting the index if needed\n",
        "df = df.reset_index(drop=True)"
      ]
    },
    {
      "cell_type": "code",
      "execution_count": null,
      "metadata": {
        "colab": {
          "base_uri": "https://localhost:8080/",
          "height": 498
        },
        "id": "WtxfApoSh6ak",
        "outputId": "623051f3-739a-4428-b199-8e217e528276"
      },
      "outputs": [],
      "source": [
        "import matplotlib.pyplot as plt\n",
        "import matplotlib.colors as mcolors\n",
        "import re\n",
        "\n",
        "# Step 1: Filter for columns that end with '- Test Accuracy' and include the 'Step' column\n",
        "relevant_columns = ['Round'] + [col for col in df.columns if col.endswith(' - Test Accuracy')]\n",
        "\n",
        "# Step 2: Select the first 200 steps (steps 0 to 199)\n",
        "filtered_df = df[relevant_columns].iloc[:200]\n",
        "\n",
        "# Step 3: Plotting settings\n",
        "# Create a colormap (using a sequential colormap for same nc but darker tone for higher j)\n",
        "colors = {'nc=1_': 'red', 'nc=10_': 'black'}  # Red for nc=1 and Black for nc=10\n",
        "j_values = {'j=4': 0.9, 'j=16': 1.0}  # Slightly increased opacity for better visibility\n",
        "\n",
        "# Initialize plot\n",
        "plt.figure(figsize=(15, 8))\n",
        "\n",
        "# Iterate over the filtered columns (excluding 'Round')\n",
        "for col in filtered_df.columns[1:]:\n",
        "    gamma_value = re.search(r'gamma=([0-9.]+)', col)\n",
        "    gamma_value = float(gamma_value.group(1)) if gamma_value else None\n",
        "\n",
        "    # Extract j and nc values from the column name\n",
        "    j_value = 'j=4' if 'j=4' in col else 'j=16'\n",
        "    nc_value = 'nc=1_' if 'nc=1_' in col else 'nc=10_'\n",
        "\n",
        "    # Set the color based on column values\n",
        "    if 'uniform' in col:\n",
        "        color = mcolors.to_rgba('black', alpha=0.6 if j_value == 'j=4' else 0.8)\n",
        "    else:\n",
        "        if nc_value == 'nc=1_':\n",
        "            color = mcolors.to_rgba('red', alpha=0.8 - (gamma_value / 8 if gamma_value else 0))\n",
        "        else:\n",
        "            color = mcolors.to_rgba('blue', alpha=0.8 if j_value == 'j=4' else 1.0)\n",
        "\n",
        "    # Construct a label for the legend\n",
        "    label = f'gamma={gamma_value}, {j_value}, {nc_value}'\n",
        "\n",
        "    # Plot the data as continuous lines without markers\n",
        "    plt.plot(filtered_df['Round'], filtered_df[col], label=label, color=color, linewidth=1)\n",
        "\n",
        "# Step 4: Final plot adjustments\n",
        "plt.title('Test Accuracy Over Steps', fontsize=14)\n",
        "plt.xlabel('Steps', fontsize=12)\n",
        "plt.ylabel('Test Accuracy', fontsize=12)\n",
        "plt.legend(bbox_to_anchor=(1.05, 1), loc='upper left', fontsize='small')  # Adjusted legend size for better fit\n",
        "plt.grid(True)\n",
        "\n",
        "plt.savefig('test_accuracy_plot.pdf', format='pdf', bbox_inches='tight')  # Save as PDF\n",
        "\n",
        "# Show the plot with tight layout\n",
        "plt.tight_layout()\n",
        "plt.show()\n"
      ]
    },
    {
      "cell_type": "code",
      "execution_count": null,
      "metadata": {
        "id": "PBqEEeVx-dz_"
      },
      "outputs": [],
      "source": [
        "df = pd.read_pickle('/content/drive/MyDrive/MLDL/cifar/metrics/clients_classes_dist_fedavg_0_1_50_16.pkl')"
      ]
    },
    {
      "cell_type": "code",
      "execution_count": null,
      "metadata": {
        "colab": {
          "base_uri": "https://localhost:8080/",
          "height": 718
        },
        "id": "ahlE4pGv-3Bg",
        "outputId": "fff65f06-8125-4da1-b485-7a5ffc419a08"
      },
      "outputs": [],
      "source": [
        "import matplotlib.pyplot as plt\n",
        "import numpy as np\n",
        "import matplotlib.colors as mcolors\n",
        "\n",
        "# Extracting client training data\n",
        "train_data = df['train']\n",
        "\n",
        "# Number of clients\n",
        "num_clients = len(train_data)\n",
        "\n",
        "# Prepare a color map for classes\n",
        "num_classes = 100  # We have 100 possible classes\n",
        "cmap = plt.get_cmap('viridis', num_classes)\n",
        "\n",
        "# Create a figure for the plot\n",
        "fig, ax = plt.subplots(figsize=(10, 8))\n",
        "\n",
        "# Sort the classes for each client and plot the bar\n",
        "for idx, client_classes in enumerate(train_data[:10]):\n",
        "    sorted_classes = dict(sorted(client_classes.items()))  # Sort by class index\n",
        "    class_indices = list(sorted_classes.keys())\n",
        "    class_counts = list(sorted_classes.values())\n",
        "\n",
        "    # Create cumulative starting points for each class in the bar\n",
        "    cumulative_counts = np.cumsum([0] + class_counts[:-1])\n",
        "\n",
        "    # Plot each section of the bar with a corresponding color\n",
        "    for i, class_idx in enumerate(class_indices):\n",
        "        ax.barh(idx, class_counts[i], left=cumulative_counts[i], color=cmap(class_idx), edgecolor='black')\n",
        "\n",
        "# Adding color bar to represent the classes\n",
        "norm = mcolors.Normalize(vmin=0, vmax=num_classes-1)\n",
        "sm = plt.cm.ScalarMappable(cmap=cmap, norm=norm)\n",
        "sm.set_array([])\n",
        "\n",
        "# Add the color bar\n",
        "cbar = plt.colorbar(sm, ax=ax)\n",
        "cbar.set_label('Class Index')\n",
        "\n",
        "# Label the axes\n",
        "ax.set_xlabel('Number of Samples')\n",
        "ax.set_ylabel('Clients')\n",
        "ax.set_title('Class Distribution for Each Client (Sorted by Class Index)')\n",
        "\n",
        "# Show plot\n",
        "plt.show()\n"
      ]
    },
    {
      "cell_type": "code",
      "execution_count": null,
      "metadata": {
        "colab": {
          "base_uri": "https://localhost:8080/",
          "height": 845
        },
        "id": "ExyfS_3GDT8G",
        "outputId": "fa98fe4e-f4d5-449a-e1f9-ae42eb28b945"
      },
      "outputs": [],
      "source": [
        "import matplotlib.pyplot as plt\n",
        "import numpy as np\n",
        "import matplotlib.colors as mcolors\n",
        "from google.colab import drive\n",
        "\n",
        "drive.mount('/content/drive/')\n",
        "\n",
        "# Assuming df1, df2, df3, df4 are defined and have the same structure\n",
        "df1 = pd.read_pickle('/content/drive/MyDrive/MLDL/cifar/metrics/clients_classes_dist_fedavg_0_1_1_16.pkl')\n",
        "df2 = pd.read_pickle('/content/drive/MyDrive/MLDL/cifar/metrics/clients_classes_dist_fedavg_0_1_5_16.pkl')\n",
        "df3 = pd.read_pickle('/content/drive/MyDrive/MLDL/cifar/metrics/clients_classes_dist_fedavg_0_1_10_16.pkl')\n",
        "df4 = pd.read_pickle('/content/drive/MyDrive/MLDL/cifar/metrics/clients_classes_dist_fedavg_0_1_50_16.pkl')\n",
        "dataframes = [df1, df2, df3, df4]\n",
        "\n",
        "# Create a figure with 4 subplots (2x2 layout)\n",
        "fig, axs = plt.subplots(2, 2, figsize=(15, 12))\n",
        "\n",
        "# Prepare a color map for classes\n",
        "num_classes = 100  # We have 100 possible classes\n",
        "cmap = plt.get_cmap('viridis', num_classes)\n",
        "\n",
        "for ax, df, nc in zip(axs.flatten(), dataframes, [1,5,10,50]):\n",
        "    # Extracting client training data for each dataframe\n",
        "    train_data = df['train']\n",
        "\n",
        "    # Sort the classes for each client and plot the bar\n",
        "    for idx, client_classes in enumerate(train_data[:10]):\n",
        "        sorted_classes = dict(sorted(client_classes.items()))  # Sort by class index\n",
        "        class_indices = list(sorted_classes.keys())\n",
        "        class_counts = list(sorted_classes.values())\n",
        "\n",
        "        # Create cumulative starting points for each class in the bar\n",
        "        cumulative_counts = np.cumsum([0] + class_counts[:-1])\n",
        "\n",
        "        # Plot each section of the bar with a corresponding color\n",
        "        for i, class_idx in enumerate(class_indices):\n",
        "            ax.barh(idx, class_counts[i], left=cumulative_counts[i], color=cmap(class_idx), edgecolor='black')\n",
        "\n",
        "    # Adding color bar to represent the classes\n",
        "    norm = mcolors.Normalize(vmin=0, vmax=num_classes-1)\n",
        "    sm = plt.cm.ScalarMappable(cmap=cmap, norm=norm)\n",
        "    sm.set_array([])\n",
        "\n",
        "    # Add the color bar on the side of the figure\n",
        "    cbar = plt.colorbar(sm, ax=ax)\n",
        "    cbar.set_label('Class Index')\n",
        "\n",
        "    # Label the axes\n",
        "    ax.set_xlabel('Number of Samples')\n",
        "    ax.set_ylabel('Clients')\n",
        "    ax.set_title(f'Class Distribution for 10 Clients for NC={nc}')\n",
        "\n",
        "# Adjust the layout to prevent overlap\n",
        "plt.tight_layout()\n",
        "\n",
        "\n",
        "plt.savefig('client_classes_dist_diff_nc.pdf', format='pdf', bbox_inches='tight')\n",
        "# Show the figure with 4 subplots\n",
        "plt.show()\n"
      ]
    },
    {
      "cell_type": "code",
      "execution_count": null,
      "metadata": {
        "colab": {
          "base_uri": "https://localhost:8080/",
          "height": 557
        },
        "id": "aMxCYa8aETcS",
        "outputId": "c363335b-d3c4-43e9-ebfa-6005b91a3744"
      },
      "outputs": [],
      "source": [
        "import matplotlib.pyplot as plt\n",
        "import pandas as pd\n",
        "\n",
        "# Columns for test accuracy\n",
        "columns_to_plot = [\n",
        "    \"shakespeare_iid_skewed_alpha=0.7 - test_accuracy\",\n",
        "    \"shakespeare_iid_skewed_alpha=0.5 - test_accuracy\",\n",
        "    \"shakespeare_iid_skewed_alpha=0.1 - test_accuracy\",\n",
        "    \"shakespeare_iid_uniform - test_accuracy\"\n",
        "]\n",
        "data = pd.read_csv('/content/shakes_iid.csv')\n",
        "# Extract step and accuracy values\n",
        "steps = data['Step']\n",
        "accuracies = data[columns_to_plot]\n",
        "\n",
        "# Plot the accuracies for each run\n",
        "plt.figure(figsize=(10, 6))\n",
        "for col in columns_to_plot:\n",
        "    plt.plot(steps, accuracies[col], label=col.split(' - ')[0])  # Label with uniform/skewed + alpha\n",
        "\n",
        "# Customize the plot\n",
        "plt.title('Test Accuracy for Different Alpha Values and Distribution')\n",
        "plt.xlabel('Step')\n",
        "plt.ylabel('Test Accuracy (%)')\n",
        "plt.legend(title=\"Run Name\")\n",
        "plt.grid(True)\n",
        "plt.tight_layout()\n",
        "\n",
        "# Show the plot\n",
        "plt.show()\n"
      ]
    },
    {
      "cell_type": "code",
      "execution_count": null,
      "metadata": {
        "colab": {
          "base_uri": "https://localhost:8080/"
        },
        "id": "gWN67q35k-i3",
        "outputId": "3376900c-965f-43eb-cfe0-112af6146b3a"
      },
      "outputs": [],
      "source": [
        "data = pd.read_csv('/content/shakes_iid_loss.csv')"
      ]
    },
    {
      "cell_type": "code",
      "execution_count": null,
      "metadata": {
        "colab": {
          "base_uri": "https://localhost:8080/"
        },
        "id": "VBp8zKaweSld",
        "outputId": "ed5d8722-869f-4780-f563-e538ed8d514e"
      },
      "outputs": [],
      "source": [
        "import pandas as pd\n",
        "\n",
        "data = pd.read_csv('/content/acc_iid_cifar.csv')"
      ]
    },
    {
      "cell_type": "code",
      "execution_count": null,
      "metadata": {
        "colab": {
          "base_uri": "https://localhost:8080/",
          "height": 627
        },
        "id": "G1BCT_KRkpBn",
        "outputId": "848f95b8-41a4-4d35-fb1f-5553b50b6043"
      },
      "outputs": [],
      "source": [
        "import matplotlib.pyplot as plt\n",
        "import pandas as pd\n",
        "\n",
        "# Columns for test accuracy\n",
        "columns_to_plot = [\n",
        "    \"shakespeare_iid_skewed_alpha=0.7 - test_loss\",\n",
        "    \"shakespeare_iid_skewed_alpha=0.5 - test_loss\",\n",
        "    \"shakespeare_iid_skewed_alpha=0.1 - test_loss\",\n",
        "    \"shakespeare_iid_uniform - test_loss\"\n",
        "]\n",
        "# Extract step and accuracy values\n",
        "steps = data['Step']\n",
        "accuracies = data[columns_to_plot]\n",
        "\n",
        "# Plot the accuracies for each run\n",
        "plt.figure(figsize=(10, 6))\n",
        "for col in columns_to_plot:\n",
        "    plt.plot(steps, accuracies[col], label=col.split(' - ')[0])  # Label with uniform/skewed + alpha\n",
        "\n",
        "# Customize the plot\n",
        "plt.title('Test Loss for Different Alpha Values and Distribution')\n",
        "plt.xlabel('Step')\n",
        "plt.ylabel('Test Loss (%)')\n",
        "plt.legend(title=\"Run Name\")\n",
        "plt.grid(True)\n",
        "plt.tight_layout()\n",
        "\n",
        "# Show the plot\n",
        "plt.show()\n"
      ]
    },
    {
      "cell_type": "code",
      "execution_count": null,
      "metadata": {
        "id": "3a3htng1lIn9"
      },
      "outputs": [],
      "source": [
        "data = pd.read_csv('/content/shakes_niid_loss.csv')\n",
        "x = list(data.columns)"
      ]
    },
    {
      "cell_type": "code",
      "execution_count": null,
      "metadata": {
        "colab": {
          "base_uri": "https://localhost:8080/"
        },
        "id": "M70DoPHSmQu9",
        "outputId": "80edccd9-8a8a-4185-8775-2b88e177b29c"
      },
      "outputs": [],
      "source": [
        "columns_to_plot = [el for el in x if el.endswith('test_loss') and 'uniform' not in el]"
      ]
    },
    {
      "cell_type": "code",
      "execution_count": null,
      "metadata": {
        "colab": {
          "base_uri": "https://localhost:8080/",
          "height": 1000
        },
        "id": "l5ST44dnoMe8",
        "outputId": "c134502d-5579-47d5-9017-b923f399ccf3"
      },
      "outputs": [],
      "source": [
        "# Define the values of alpha and j from the column names\n",
        "alpha_values = [0.7, 0.5, 0.1]\n",
        "j_values = [16, 8, 4]\n",
        "\n",
        "# Loop through each alpha value and plot the corresponding curves for different j values\n",
        "plt.figure(figsize=(12, 8))\n",
        "for alpha in alpha_values:\n",
        "    plt.figure(figsize=(8, 6))\n",
        "    for j in j_values:\n",
        "        column_name = f\"shakespeare_niid_skewed_j={j}_alpha={alpha} - test_loss\"\n",
        "        if column_name in data.columns:\n",
        "            plt.plot(data['Step'], data[column_name], label=f\"j={j}\")\n",
        "\n",
        "    # Customize the plot\n",
        "    plt.title(f'Test Loss for alpha={alpha}')\n",
        "    plt.xlabel('Step')\n",
        "    plt.ylabel('Test Loss (%)')\n",
        "    plt.legend(title=\"j value\")\n",
        "    plt.grid(True)\n",
        "    plt.tight_layout()\n",
        "    plt.show()\n"
      ]
    },
    {
      "cell_type": "code",
      "execution_count": null,
      "metadata": {
        "id": "CG8Vbe3_ovHx"
      },
      "outputs": [],
      "source": [
        "data = pd.read_csv('/content/shakes_niid_uniform_loss.csv')\n",
        "x = list(data.columns)"
      ]
    },
    {
      "cell_type": "code",
      "execution_count": null,
      "metadata": {
        "colab": {
          "base_uri": "https://localhost:8080/"
        },
        "id": "cl4JBD8Rp-pN",
        "outputId": "d6362e81-7461-420d-ba01-b286e21d1171"
      },
      "outputs": [],
      "source": [
        "columns_to_plot = [el for el in x if el.endswith('test_loss')]"
      ]
    },
    {
      "cell_type": "code",
      "execution_count": null,
      "metadata": {
        "colab": {
          "base_uri": "https://localhost:8080/",
          "height": 557
        },
        "id": "hpjOUJ-cqA1n",
        "outputId": "9ce020ee-cbc2-48b4-a180-a3b6bfefbb0b"
      },
      "outputs": [],
      "source": [
        "# Extract step and accuracy values\n",
        "steps = data['Step']\n",
        "accuracies = data[columns_to_plot]\n",
        "\n",
        "# Plot the accuracies for each run\n",
        "plt.figure(figsize=(10, 6))\n",
        "for col in columns_to_plot:\n",
        "    plt.plot(steps, accuracies[col], label=col.split(' - ')[0])  # Label with uniform/skewed + alpha\n",
        "\n",
        "# Customize the plot\n",
        "plt.title('Test Loss for Different Local Epochs')\n",
        "plt.xlabel('Step')\n",
        "plt.ylabel('Test Loss (%)')\n",
        "plt.legend(title=\"Run Name\")\n",
        "plt.grid(True)\n",
        "plt.tight_layout()\n",
        "\n",
        "# Show the plot\n",
        "plt.show()"
      ]
    },
    {
      "cell_type": "code",
      "execution_count": null,
      "metadata": {
        "colab": {
          "base_uri": "https://localhost:8080/"
        },
        "id": "GMtLN291fvm-",
        "outputId": "c16b2907-5078-4e4e-ecc4-e450f8a92aee"
      },
      "outputs": [],
      "source": [
        "df = pd.read_csv('cifar_noniid.csv')"
      ]
    },
    {
      "cell_type": "code",
      "execution_count": null,
      "metadata": {
        "colab": {
          "base_uri": "https://localhost:8080/",
          "height": 554
        },
        "id": "6s4eKm-GqJPm",
        "outputId": "cebe6afa-059b-4a7d-b260-92991926d47d"
      },
      "outputs": [],
      "source": [
        "import matplotlib.pyplot as plt\n",
        "import matplotlib.colors as mcolors\n",
        "import re\n",
        "import pandas as pd\n",
        "\n",
        "df = pd.read_csv('/content/cifar_noniid.csv')\n",
        "\n",
        "\n",
        "\n",
        "# Step 1: Filter for columns that end with '- Test Accuracy' and include the 'Step' column\n",
        "relevant_columns = ['Round'] + [col for col in df.columns if col.endswith(' - Test Accuracy')]\n",
        "\n",
        "# Step 2: Select the first 200 steps (steps 0 to 199)\n",
        "filtered_df = df[relevant_columns].iloc[:200]\n",
        "\n",
        "# Step 3: Plotting settings\n",
        "# Create a colormap (using a sequential colormap for same nc but darker tone for higher j)\n",
        "colors = {'nc=1_': 'red', 'nc=10_': 'black'}  # Red for nc=1 and Black for nc=10\n",
        "j_values = {'j=4': 0.5, 'j=16': 1.0, 'j=8': 0.7}  # Slightly increased opacity for better visibility\n",
        "\n",
        "temp_cols = ['federated_cifar_100_noniid_uniform_j=4_nc=1 - Test Accuracy',\n",
        "             'federated_cifar_100_noniid_uniform_j=8_nc=1 - Test Accuracy',\n",
        "             'federated_cifar_100_noniid_uniform_j=16_nc=1 - Test Accuracy',\n",
        "       'federated_cifar_100_noniid_uniform_j=4_nc=10 - Test Accuracy',\n",
        "       'federated_cifar_100_noniid_uniform_j=8_nc=10 - Test Accuracy',\n",
        "       'federated_cifar_100_noniid_uniform_j=16_nc=10 - Test Accuracy']\n",
        "\n",
        "# Initialize plot\n",
        "plt.figure(figsize=(15, 8))\n",
        "\n",
        "# Iterate over the filtered columns (excluding 'Round')\n",
        "for col in temp_cols:\n",
        "    gamma_value = re.search(r'gamma=([0-9.]+)', col)\n",
        "    gamma_value = float(gamma_value.group(1)) if gamma_value else None\n",
        "\n",
        "    # Extract j and nc values from the column name\n",
        "    j_value = 'j=4' if 'j=4' in col else 'j=16' if 'j=16' in col else 'j=8'\n",
        "    nc_value = 'nc=1_' if 'nc=1_' in col or 'nc=1 'in col else 'nc=10_'\n",
        "\n",
        "    if nc_value == 'nc=1_':\n",
        "        color = mcolors.to_rgba('green', alpha=j_values[j_value])\n",
        "    elif nc_value == 'nc=10_':\n",
        "        color = mcolors.to_rgba('blue', alpha=j_values[j_value])\n",
        "    # else:\n",
        "    #     color = mcolors.to_rgba('blue', alpha=0.5 if j_value == 'j=4' else 1.0)\n",
        "\n",
        "    # Construct a label for the legend\n",
        "    label = f'{j_value}, {nc_value.replace(\"_\",\"\")}'\n",
        "\n",
        "    # Plot the data as continuous lines without markers\n",
        "    plt.plot(filtered_df['Round'], filtered_df[col], label=label, color=color, linewidth=1)\n",
        "\n",
        "# Step 4: Final plot adjustments\n",
        "plt.title('Test Accuracy Over Steps', fontsize=14)\n",
        "plt.xlabel('Steps', fontsize=12)\n",
        "plt.ylabel('Test Accuracy', fontsize=12)\n",
        "plt.legend(bbox_to_anchor=(1.05, 1), loc='upper left', fontsize='small')  # Adjusted legend size for better fit\n",
        "plt.grid(True)\n",
        "\n",
        "plt.savefig('test_accuracy_plot.pdf', format='pdf', bbox_inches='tight')  # Save as PDF\n",
        "\n",
        "# Show the plot with tight layout\n",
        "plt.tight_layout()\n",
        "plt.show()\n"
      ]
    },
    {
      "cell_type": "code",
      "execution_count": null,
      "metadata": {
        "id": "crRqwG5ZeyGT"
      },
      "outputs": [],
      "source": [
        "df = pd.read_csv('/content/cifar_noniid_uniform_acc.csv')"
      ]
    },
    {
      "cell_type": "code",
      "execution_count": null,
      "metadata": {
        "colab": {
          "base_uri": "https://localhost:8080/",
          "height": 554
        },
        "id": "HunHGRB_hOR6",
        "outputId": "f381b165-e7d1-4e3c-e3b8-13530b8ed2dc"
      },
      "outputs": [],
      "source": [
        "import matplotlib.pyplot as plt\n",
        "import matplotlib.colors as mcolors\n",
        "import re\n",
        "import pandas as pd\n",
        "\n",
        "df = pd.read_csv('/content/loss_iid_cifar.csv')\n",
        "\n",
        "df.rename(columns={'Step': 'Round'}, inplace=True)\n",
        "\n",
        "# Step 1: Filter for columns that end with '- Test Accuracy' and include the 'Step' column\n",
        "relevant_columns = ['Round'] + [col for col in df.columns if col.endswith(' - Test Loss')]\n",
        "\n",
        "# Step 2: Select the first 200 steps (steps 0 to 199)\n",
        "filtered_df = df[relevant_columns].iloc[:200]\n",
        "\n",
        "# Step 3: Plotting settings\n",
        "# Create a colormap (using a sequential colormap for same nc but darker tone for higher j)\n",
        "colors = {'nc=1_': 'red', 'nc=10_': 'black'}  # Red for nc=1 and Black for nc=10\n",
        "j_values = {'j=4': 0.9, 'j=16': 1.0}  # Slightly increased opacity for better visibility\n",
        "\n",
        "# Initialize plot\n",
        "plt.figure(figsize=(15, 8))\n",
        "\n",
        "temp_cols = ['federated_cifar_100_iid_2000_uniform - Test Loss',\n",
        "             'federated_cifar_100_iid_2000_skewed_gamma_0.1 - Test Loss',\n",
        "'federated_cifar_100_iid_2000_skewed_gamma_0.5 - Test Loss',\n",
        "'federated_cifar_100_iid_2000_skewed_gamma_0.7 - Test Loss']\n",
        "# Iterate over the filtered columns (excluding 'Round')\n",
        "for col in temp_cols:\n",
        "    gamma_value = re.search(r'gamma_([0-9.]+)', col)\n",
        "    gamma_value = float(gamma_value.group(1)) if gamma_value else 0\n",
        "\n",
        "    # Extract j and nc values from the column name\n",
        "    j_value = 'j=4' if 'j=4' in col else 'j=16'\n",
        "    nc_value = 'nc=1_' if 'nc=1_' in col or 'nc=1 'in col else 'nc=10_'\n",
        "    if 'uniform' in col:\n",
        "        color = mcolors.to_rgba('black', alpha=1)\n",
        "    else:\n",
        "        color = mcolors.to_rgba('red', alpha=gamma_value/2+0.3)\n",
        "    # Construct a label for the legend\n",
        "    label = f'gamma = {gamma_value}' if 'uniform' not in col else 'Uniform'\n",
        "\n",
        "    # Plot the data as continuous lines without markers\n",
        "    plt.plot(filtered_df['Round'], filtered_df[col], label=label, color=color, linewidth=1)\n",
        "\n",
        "# Step 4: Final plot adjustments\n",
        "plt.title('Test Loss Over Steps', fontsize=14)\n",
        "plt.xlabel('Steps', fontsize=12)\n",
        "plt.ylabel('Test Loss', fontsize=12)\n",
        "plt.legend(bbox_to_anchor=(1.05, 1), loc='upper left', fontsize='small')  # Adjusted legend size for better fit\n",
        "plt.grid(True)\n",
        "\n",
        "plt.savefig('test_loss_plot.pdf', format='pdf', bbox_inches='tight')  # Save as PDF\n",
        "\n",
        "# Show the plot with tight layout\n",
        "plt.tight_layout()\n",
        "plt.show()"
      ]
    },
    {
      "cell_type": "code",
      "execution_count": null,
      "metadata": {
        "colab": {
          "base_uri": "https://localhost:8080/",
          "height": 383
        },
        "id": "xQ8EKk0YjJQG",
        "outputId": "632184bf-f960-416f-b775-6be23f39a030"
      },
      "outputs": [],
      "source": [
        "import pandas as pd\n",
        "from functools import reduce\n",
        "\n",
        "\n",
        "df1 = pd.read_pickle('/content/metrics_pfedhn_0.9_gen_0_1_1_4.pkl')\n",
        "df1 = df1.rename(columns={'New Clients Test Accuracy': 'new_nc1_0.9', 'Test Accuracy': 'acc_nc1_0.9'})\n",
        "\n",
        "df1['new_nc1_0.9'] *=100\n",
        "df1['acc_nc1_0.9'] *=100\n",
        "nc1_acc = df1['Old Test Accuracy'][0]*100\n",
        "\n",
        "df2 = pd.read_pickle('/content/metrics_pfedhn_1_gen_0_1_1_4.pkl')\n",
        "df2 = df2.rename(columns={'New Clients Test Accuracy': 'new_nc1_1', 'Test Accuracy': 'acc_nc1_1'})\n",
        "df2['new_nc1_1'] *=100\n",
        "df2['acc_nc1_1'] *=100\n",
        "\n",
        "\n",
        "\n",
        "df3 = pd.read_pickle('/content/metrics_pfedhn_0.9_gen_0_1_5_4.pkl')\n",
        "df3 = df3.rename(columns={'New Clients Test Accuracy': 'new_nc5_0.9', 'Test Accuracy': 'acc_nc5_0.9'})\n",
        "df3['new_nc5_0.9'] *=100\n",
        "df3['acc_nc5_0.9'] *=100\n",
        "nc5_acc = df3['Old Test Accuracy'][0]*100\n",
        "\n",
        "\n",
        "df4 = pd.read_pickle('/content/metrics_pfedhn_1_gen_0_1_5_4.pkl')\n",
        "df4 = df4.rename(columns={'New Clients Test Accuracy': 'new_nc5_1', 'Test Accuracy': 'acc_nc5_1'})\n",
        "df4 = df4[['Round', 'new_nc5_1', 'acc_nc5_1']]\n",
        "df4['new_nc5_1'] *=100\n",
        "df4['acc_nc5_1'] *=100\n",
        "\n",
        "df5 = pd.read_pickle('/content/metrics_pfedhn_1_gen_0_1_10_4.pkl')\n",
        "df5 = df5.rename(columns={'New Clients Test Accuracy': 'new_nc10_1', 'Test Accuracy': 'acc_nc10_1'})\n",
        "df5['new_nc10_1'] *=100\n",
        "df5['acc_nc10_1'] *=100\n",
        "nc10_acc = df5['Old Test Accuracy'][0]*100\n",
        "df5 = df5[['Round', 'new_nc10_1', 'acc_nc10_1']]\n",
        "\n",
        "\n",
        "df6 = pd.read_pickle('/content/metrics_pfedhn_0.9_gen_0_1_10_4.pkl')\n",
        "df6 = df6.rename(columns={'New Clients Test Accuracy': 'new_nc10_0.9', 'Test Accuracy': 'acc_nc10_0.9'})\n",
        "df6['new_nc10_0.9'] *=100\n",
        "df6['acc_nc10_0.9'] *=100\n",
        "df6 = df6[['Round', 'new_nc10_0.9', 'acc_nc10_0.9']]\n",
        "\n",
        "dfs = [df1, df2, df3, df4, df5, df6]\n",
        "merged_df = reduce(lambda left, right: pd.merge(left, right, on='Round', how='left'), dfs)\n",
        "# New Clients Test Accuracy, Test Accuracy\n",
        "df_to_plot = merged_df[['Round', 'new_nc1_0.9', 'acc_nc1_0.9', 'new_nc1_1', 'acc_nc1_1', 'new_nc5_0.9', 'acc_nc5_0.9', 'new_nc5_1', 'acc_nc5_1', 'new_nc10_1', 'acc_nc10_1', 'new_nc10_0.9', 'acc_nc10_0.9']]\n",
        "df_to_plot\n",
        "\n"
      ]
    },
    {
      "cell_type": "code",
      "execution_count": null,
      "metadata": {
        "colab": {
          "base_uri": "https://localhost:8080/",
          "height": 521
        },
        "id": "PSdT_yAljQnz",
        "outputId": "ffd9becc-7760-41ac-89fd-b9b73e033b27"
      },
      "outputs": [],
      "source": [
        "import matplotlib.colors as mcolors\n",
        "import matplotlib.pyplot as plt\n",
        "\n",
        "relevant_columns = ['new_nc1_0.9', 'acc_nc1_0.9', 'new_nc1_1', 'acc_nc1_1','new_nc5_0.9', 'acc_nc5_0.9', 'new_nc5_1', 'acc_nc5_1', 'new_nc10_1', 'acc_nc10_1', 'new_nc10_0.9', 'acc_nc10_0.9']\n",
        "\n",
        "# Create a figure with 1 row and 2 columns of subplots\n",
        "fig, (ax1, ax2) = plt.subplots(1, 2, figsize=(12, 6))\n",
        "\n",
        "# Iterate over relevant columns\n",
        "for col in relevant_columns:\n",
        "    # Determine color based on bias in the column name\n",
        "    bias = 0.9 if '0.9' in col else 1\n",
        "    alpha = 0.6 if bias == 0.9 else 1\n",
        "    if 'nc1_' in col:\n",
        "        color = mcolors.to_rgba('blue', alpha=alpha)\n",
        "    elif 'nc10' in col:\n",
        "        color = mcolors.to_rgba('green', alpha=alpha)\n",
        "    else:\n",
        "        color = mcolors.to_rgba('red', alpha=alpha)\n",
        "\n",
        "    # Define label based on the content in the column\n",
        "    label = f\"NC={'1' if 'nc1_' in col else '10' if 'nc10' in col else '5'} (Bias = {'0.9' if '0.9' in col else '1'})\"\n",
        "\n",
        "    # Plot in appropriate subplot\n",
        "    if 'new' in col:\n",
        "        ax1.plot(df_to_plot['Round'], df_to_plot[col], label=label, color=color, linewidth=1)\n",
        "    else:\n",
        "        ax2.plot(df_to_plot['Round'], df_to_plot[col], label=label, color=color, linewidth=1)\n",
        "\n",
        "# Set y-axis limits for both subplots\n",
        "ax1.set_ylim(0, 100)\n",
        "ax2.set_ylim(0, 100)\n",
        "\n",
        "\n",
        "ax1.axhline(y=nc1_acc, color=mcolors.to_rgba('blue', alpha=0.4), linestyle='dashdot', linewidth=3, label='NC1 - OLD ACC')\n",
        "\n",
        "ax2.axhline(y=nc1_acc, color=mcolors.to_rgba('blue', alpha=0.4), linestyle='dashdot', linewidth=3, label='NC1 - OLD ACC')\n",
        "\n",
        "ax1.axhline(y=nc5_acc, color=mcolors.to_rgba('red', alpha=0.4), linestyle='dashdot', linewidth=3, label='NC5 - OLD ACC')\n",
        "\n",
        "ax2.axhline(y=nc5_acc, color=mcolors.to_rgba('red', alpha=0.4), linestyle='dashdot', linewidth=3, label='NC5 - OLD ACC')\n",
        "\n",
        "\n",
        "ax1.axhline(y=nc10_acc, color=mcolors.to_rgba('green', alpha=0.4), linestyle='dashdot', linewidth=3, label='NC10 - OLD ACC')\n",
        "\n",
        "ax2.axhline(y=nc10_acc, color=mcolors.to_rgba('green', alpha=0.4), linestyle='dashdot', linewidth=3, label='NC10 - OLD ACC')\n",
        "\n",
        "\n",
        "\n",
        "# Adjusting the first subplot (New Clients)\n",
        "ax1.set_title('New Clients Accuracy Over Steps', fontsize=14)\n",
        "ax1.set_xlabel('Steps', fontsize=12)\n",
        "ax1.set_ylabel('New Clients Accuracy', fontsize=12)\n",
        "ax1.grid(True)\n",
        "ax1.legend(loc='upper left')\n",
        "\n",
        "# Adjusting the second subplot (Global Test Accuracy)\n",
        "ax2.set_title('Global Test Accuracy Over Steps', fontsize=14)\n",
        "ax2.set_xlabel('Steps', fontsize=12)\n",
        "ax2.set_ylabel('Global Test Accuracy', fontsize=12)\n",
        "ax2.grid(True)\n",
        "ax2.legend(loc='upper left')\n",
        "\n",
        "# Adjust layout for better spacing\n",
        "plt.tight_layout()\n",
        "\n",
        "# Save the plot as a PDF\n",
        "plt.savefig('gen_test_accuracy_plot.pdf', format='pdf', bbox_inches='tight')\n",
        "\n",
        "# Show the plot\n",
        "plt.show()\n"
      ]
    },
    {
      "cell_type": "code",
      "execution_count": null,
      "metadata": {
        "colab": {
          "base_uri": "https://localhost:8080/",
          "height": 353
        },
        "id": "l9N8Np1e0-jy",
        "outputId": "283ac356-aa79-4db7-c350-3892a19bb57f"
      },
      "outputs": [],
      "source": [
        "import numpy as np\n",
        "import matplotlib.pyplot as plt\n",
        "import pandas as pd\n",
        "from scipy.stats import dirichlet\n",
        "\n",
        "\n",
        "df = pd.read_pickle('/content/drive/MyDrive/cifar/metrics/clients_dist_dirichlet.pkl')\n",
        "# Plot histograms for each gamma value\n",
        "fig, axes = plt.subplots(1, 3, figsize=(18, 6), sharey=True)\n",
        "\n",
        "for i, gamma in enumerate(gamma_values):\n",
        "    ax = axes[i]\n",
        "    ax.bar(range(num_clients), df[f'gamma_{gamma}'], color=['blue', 'orange', 'green'][i], width=1.0)\n",
        "    ax.set_title(f'Dirichlet Distribution with gamma={gamma}')\n",
        "    ax.set_xlabel('Client')\n",
        "    ax.set_ylabel('Selection Count')\n",
        "    ax.set_xlim(0, num_clients)\n",
        "\n",
        "plt.suptitle('Client Selection Distribution for Different Gamma Values over 2000 Rounds')\n",
        "plt.tight_layout()\n",
        "\n",
        "plt.savefig('gamma_distribution.pdf', format='pdf', bbox_inches='tight')\n",
        "\n",
        "plt.show()\n"
      ]
    },
    {
      "cell_type": "code",
      "execution_count": 96,
      "metadata": {
        "id": "jMp_RQ82QlEl"
      },
      "outputs": [],
      "source": [
        "import matplotlib.pyplot as plt\n",
        "import numpy as np\n",
        "import matplotlib.colors as mcolors\n",
        "import random\n",
        "import pandas as pd\n",
        "\n",
        "df = pd.read_pickle('/content/drive/MyDrive/MLDL/shakespeare/metrics/clients_dist.pkl')\n",
        "\n",
        "# Assuming train_data is a list\n",
        "# Extracting client training data\n",
        "\n",
        "\n",
        "train_data = df['train']\n",
        "random_selection = df['train'].sample(n=10)\n",
        "\n",
        "# Number of clients\n",
        "num_clients = len(train_data)\n",
        "\n",
        "# Prepare a color map for classes\n",
        "num_classes = 80  # We have 100 possible classes\n",
        "cmap = plt.get_cmap('viridis', num_classes)\n",
        "\n",
        "# Create a figure for the plot\n",
        "fig, ax = plt.subplots(figsize=(10, 8))\n",
        "\n",
        "# Sort the classes for each client and plot the bar\n",
        "for idx, client_classes in enumerate(random_selection):\n",
        "    sorted_classes = dict(sorted(client_classes.items()))  # Sort by class index\n",
        "    class_indices = list(sorted_classes.keys())\n",
        "    class_counts = list(sorted_classes.values())\n",
        "\n",
        "    # Create cumulative starting points for each class in the bar\n",
        "    cumulative_counts = np.cumsum([0] + class_counts[:-1])\n",
        "\n",
        "    # Plot each section of the bar with a corresponding color\n",
        "    for i, class_idx in enumerate(class_indices):\n",
        "        ax.barh(idx, class_counts[i], left=cumulative_counts[i], color=cmap(class_idx), edgecolor='black')\n",
        "\n",
        "# Adding color bar to represent the classes\n",
        "norm = mcolors.Normalize(vmin=0, vmax=num_classes-1)\n",
        "sm = plt.cm.ScalarMappable(cmap=cmap, norm=norm)\n",
        "sm.set_array([])\n",
        "\n",
        "# Add the color bar\n",
        "cbar = plt.colorbar(sm, ax=ax)\n",
        "cbar.set_label('Class Index')\n",
        "\n",
        "# Label the axes\n",
        "ax.set_xlabel('Number of Samples')\n",
        "ax.set_ylabel('Clients')\n",
        "ax.set_title('Class Distribution for Each Client (Sorted by Class Index)')\n",
        "\n",
        "\n",
        "plt.savefig('class_dist_shakes_niid.pdf', format='pdf', bbox_inches='tight')\n",
        "\n",
        "# Show plot\n",
        "plt.show()"
      ]
    }
  ],
  "metadata": {
    "colab": {
      "provenance": []
    },
    "kernelspec": {
      "display_name": "Python 3",
      "name": "python3"
    },
    "language_info": {
      "name": "python"
    }
  },
  "nbformat": 4,
  "nbformat_minor": 0
}
